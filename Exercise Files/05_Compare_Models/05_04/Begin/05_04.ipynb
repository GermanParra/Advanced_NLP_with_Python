{
 "cells": [
  {
   "cell_type": "markdown",
   "metadata": {},
   "source": [
    "# Compare NLP Techniques: Build Model On doc2vec Vectors"
   ]
  },
  {
   "cell_type": "markdown",
   "metadata": {},
   "source": [
    "### Read In Cleaned Text"
   ]
  },
  {
   "cell_type": "code",
   "execution_count": 1,
   "metadata": {},
   "outputs": [],
   "source": [
    "# Load the cleaned training and test sets\n",
    "import gensim\n",
    "import numpy as np\n",
    "import pandas as pd\n",
    "\n",
    "X_train = pd.read_csv('../../../data/X_train.csv')\n",
    "X_test = pd.read_csv('../../../data/X_test.csv')\n",
    "y_train = pd.read_csv('../../../data/y_train.csv')\n",
    "y_test = pd.read_csv('../../../data/y_test.csv')"
   ]
  },
  {
   "cell_type": "markdown",
   "metadata": {},
   "source": [
    "### Create doc2vec Vectors"
   ]
  },
  {
   "cell_type": "code",
   "execution_count": 2,
   "metadata": {},
   "outputs": [],
   "source": [
    "# Created TaggedDocument vectors for each text message in the training and test sets\n",
    "tagged_docs_train = [gensim.models.doc2vec.TaggedDocument(v, [i])\n",
    "                     for i, v in enumerate(X_train['clean_text'])]\n",
    "tagged_docs_test = [gensim.models.doc2vec.TaggedDocument(v, [i])\n",
    "                    for i, v in enumerate(X_test['clean_text'])]"
   ]
  },
  {
   "cell_type": "code",
   "execution_count": 3,
   "metadata": {},
   "outputs": [
    {
     "data": {
      "text/plain": [
       "[TaggedDocument(words=\"['ill', '3', 'mins', 'look']\", tags=[0]),\n",
       " TaggedDocument(words=\"['love', 'want', 'flood', 'pretty', 'pussy', 'cum']\", tags=[1]),\n",
       " TaggedDocument(words=\"['dont', 'think', 'dont', 'need', 'going', 'late', 'school', 'night', 'especially', 'one', 'class', 'one', 'missed', 'last', 'wednesday', 'probably', 'failed', 'test', 'friday']\", tags=[2]),\n",
       " TaggedDocument(words=\"['networking', 'job']\", tags=[3]),\n",
       " TaggedDocument(words=\"['walked', 'moms', 'right', 'stagwood', 'pass', 'right', 'winterstone', 'left', 'victors', 'hill', 'address', 'ltgt']\", tags=[4]),\n",
       " TaggedDocument(words=\"['wot', 'u', '2', 'j']\", tags=[5]),\n",
       " TaggedDocument(words=\"['hi', 'jon', 'pete', 'ive', 'bin', '2', 'spain', 'recently', 'hav', 'sum', 'dinero', 'left', 'bill', 'said', 'u', 'ur', 'åôrents', 'mayb', 'interested', 'hav', '12000pes', 'around', 'å', '48', 'tb', 'james']\", tags=[6]),\n",
       " TaggedDocument(words=\"['ringtone', 'club', 'get', 'uk', 'singles', 'chart', 'mobile', 'week', 'choose', 'top', 'quality', 'ringtone', 'message', 'free', 'charge']\", tags=[7]),\n",
       " TaggedDocument(words=\"['great', 'princess', 'love', 'giving', 'receiving', 'oral', 'doggy', 'style', 'fave', 'position', 'enjoy', 'making', 'love', 'ltgt', 'times', 'per', 'night', '']\", tags=[8]),\n",
       " TaggedDocument(words=\"['74355', 'xmas', 'iscoming', 'ur', 'awarded', 'either', 'å', '500', 'cd', 'gift', 'vouchers', 'free', 'entry', '2', 'r', 'å', '100', 'weekly', 'draw', 'txt', 'music', '87066', 'tnc']\", tags=[9])]"
      ]
     },
     "execution_count": 3,
     "metadata": {},
     "output_type": "execute_result"
    }
   ],
   "source": [
    "# What do these TaggedDocument objects look like?\n",
    "tagged_docs_train[:10]"
   ]
  },
  {
   "cell_type": "code",
   "execution_count": 4,
   "metadata": {},
   "outputs": [],
   "source": [
    "# Train a basic doc2vec model\n",
    "d2v_model = gensim.models.Doc2Vec(tagged_docs_train,\n",
    "                                  vector_size=100,\n",
    "                                  window=5,\n",
    "                                  min_count=2)"
   ]
  },
  {
   "cell_type": "code",
   "execution_count": 5,
   "metadata": {},
   "outputs": [],
   "source": [
    "# Infer the vectors to be used in training and testing\n",
    "train_vectors = [d2v_model.infer_vector(eval(tdoc.words)) for tdoc in tagged_docs_train]\n",
    "test_vectors = [d2v_model.infer_vector(eval(tdoc.words)) for tdoc in tagged_docs_test]  "
   ]
  },
  {
   "cell_type": "markdown",
   "metadata": {},
   "source": [
    "### Fit RandomForestClassifier On Top Of Document Vectors"
   ]
  },
  {
   "cell_type": "code",
   "execution_count": 6,
   "metadata": {},
   "outputs": [
    {
     "name": "stdout",
     "output_type": "stream",
     "text": [
      "Precision: 0.972 / Recall: 0.426 / Accuracy: 0.915\n"
     ]
    }
   ],
   "source": [
    "# Fit a basic model, make predictions on the holdout test set, and the generate the evaluation metrics\n",
    "from sklearn.ensemble import RandomForestClassifier\n",
    "from sklearn.metrics import precision_score, recall_score\n",
    "\n",
    "rf = RandomForestClassifier()\n",
    "rf_model = rf.fit(train_vectors, y_train.values.ravel())\n",
    "\n",
    "y_pred = rf_model.predict(test_vectors)\n",
    "\n",
    "precision = precision_score(y_test, y_pred)\n",
    "recall = recall_score(y_test, y_pred)\n",
    "print('Precision: {} / Recall: {} / Accuracy: {}'.format(\n",
    "    round(precision, 3), round(recall, 3), round((y_pred==y_test['label']).sum()/len(y_pred), 3)))"
   ]
  },
  {
   "cell_type": "code",
   "execution_count": null,
   "metadata": {},
   "outputs": [],
   "source": []
  }
 ],
 "metadata": {
  "kernelspec": {
   "display_name": "Python 3",
   "language": "python",
   "name": "python3"
  },
  "language_info": {
   "codemirror_mode": {
    "name": "ipython",
    "version": 3
   },
   "file_extension": ".py",
   "mimetype": "text/x-python",
   "name": "python",
   "nbconvert_exporter": "python",
   "pygments_lexer": "ipython3",
   "version": "3.8.8"
  }
 },
 "nbformat": 4,
 "nbformat_minor": 4
}
