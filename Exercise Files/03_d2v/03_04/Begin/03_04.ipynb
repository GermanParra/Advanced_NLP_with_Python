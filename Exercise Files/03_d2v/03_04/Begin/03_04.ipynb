{
 "cells": [
  {
   "cell_type": "markdown",
   "metadata": {},
   "source": [
    "# doc2vec: How To Prep Document Vectors For Modeling"
   ]
  },
  {
   "cell_type": "markdown",
   "metadata": {},
   "source": [
    "### Train Our Own Model"
   ]
  },
  {
   "cell_type": "code",
   "execution_count": 1,
   "metadata": {},
   "outputs": [],
   "source": [
    "# Read in data, clean it, split it into train/test, and then train a doc2vec model\n",
    "import gensim\n",
    "import pandas as pd\n",
    "from sklearn.model_selection import train_test_split\n",
    "pd.set_option('display.max_colwidth', 100)\n",
    "\n",
    "messages = pd.read_csv('../../../data/spam.csv', encoding='latin-1')\n",
    "messages = messages.drop(labels = [\"Unnamed: 2\", \"Unnamed: 3\", \"Unnamed: 4\"], axis = 1)\n",
    "messages.columns = [\"label\", \"text\"]\n",
    "messages['text_clean'] = messages['text'].apply(lambda x: gensim.utils.simple_preprocess(x))\n",
    "\n",
    "X_train, X_test, y_train, y_test = train_test_split(messages['text_clean'],\n",
    "                                                    messages['label'], test_size=0.2)\n",
    "\n",
    "tagged_docs_tr = [gensim.models.doc2vec.TaggedDocument(v, [i]) for i, v in enumerate(X_train)]\n",
    "\n",
    "d2v_model = gensim.models.Doc2Vec(tagged_docs_tr,\n",
    "                                  vector_size=50,\n",
    "                                  window=2,\n",
    "                                  min_count=2)"
   ]
  },
  {
   "cell_type": "code",
   "execution_count": 2,
   "metadata": {},
   "outputs": [
    {
     "data": {
      "text/plain": [
       "array([-0.00960365,  0.0041863 ,  0.00470642,  0.00668344,  0.00360758,\n",
       "       -0.01569633,  0.01734298,  0.01909903, -0.0171663 , -0.0086998 ,\n",
       "        0.00080848, -0.0060743 , -0.00424025,  0.00353432, -0.00902885,\n",
       "        0.00991863,  0.00964054, -0.00588925, -0.02582066, -0.02153697,\n",
       "       -0.00020033,  0.01400776,  0.03893551, -0.00824822,  0.00349553,\n",
       "       -0.00457185, -0.00593087, -0.01121572, -0.02432166,  0.00079463,\n",
       "       -0.00069965,  0.0121311 ,  0.01075277, -0.00344844, -0.01804772,\n",
       "        0.02735982,  0.01968616, -0.02577301,  0.00511266,  0.01119654,\n",
       "        0.02003459,  0.00269953, -0.01137651, -0.01433059,  0.0294844 ,\n",
       "        0.00164392,  0.00335629, -0.00447233,  0.00155071,  0.00740266],\n",
       "      dtype=float32)"
      ]
     },
     "execution_count": 2,
     "metadata": {},
     "output_type": "execute_result"
    }
   ],
   "source": [
    "# What does a document vector look like again?\n",
    "d2v_model.infer_vector(['convert', 'words', 'to', 'vectors'])"
   ]
  },
  {
   "cell_type": "code",
   "execution_count": 3,
   "metadata": {},
   "outputs": [],
   "source": [
    "# How do we prepare these vectors to be used in a machine learning model?\n",
    "vectors = [[d2v_model.infer_vector(words)] for words in X_test]"
   ]
  },
  {
   "cell_type": "code",
   "execution_count": 4,
   "metadata": {},
   "outputs": [
    {
     "data": {
      "text/plain": [
       "[array([-0.00438613,  0.009446  ,  0.01686461,  0.01353394, -0.02057038,\n",
       "        -0.05851559,  0.09652567,  0.09226857, -0.11771159, -0.03360854,\n",
       "        -0.0081933 , -0.08379792,  0.05585665,  0.0705604 , -0.04914135,\n",
       "         0.08143747,  0.050693  ,  0.04373423, -0.16165096, -0.08115779,\n",
       "         0.05319552,  0.09930832,  0.13048331, -0.01292128,  0.10715507,\n",
       "         0.01736953, -0.07572332, -0.02680702, -0.13697867, -0.04040095,\n",
       "         0.0005779 ,  0.02491085, -0.04211679,  0.01581649, -0.07333516,\n",
       "         0.11204125,  0.05971518, -0.0379076 ,  0.05410324, -0.02140064,\n",
       "         0.08633543,  0.00552981,  0.00964647,  0.0041205 ,  0.14263749,\n",
       "         0.03339011,  0.02120704, -0.09685022,  0.05350615,  0.04705257],\n",
       "       dtype=float32)]"
      ]
     },
     "execution_count": 4,
     "metadata": {},
     "output_type": "execute_result"
    }
   ],
   "source": [
    "vectors[0]"
   ]
  },
  {
   "cell_type": "code",
   "execution_count": null,
   "metadata": {},
   "outputs": [],
   "source": []
  }
 ],
 "metadata": {
  "kernelspec": {
   "display_name": "Python 3",
   "language": "python",
   "name": "python3"
  },
  "language_info": {
   "codemirror_mode": {
    "name": "ipython",
    "version": 3
   },
   "file_extension": ".py",
   "mimetype": "text/x-python",
   "name": "python",
   "nbconvert_exporter": "python",
   "pygments_lexer": "ipython3",
   "version": "3.8.8"
  }
 },
 "nbformat": 4,
 "nbformat_minor": 4
}
